{
 "cells": [
  {
   "cell_type": "code",
   "execution_count": 2,
   "metadata": {},
   "outputs": [],
   "source": [
    "import cv2\n",
    "import numpy as np\n",
    "import os\n",
    "from PIL import Image\n",
    "import matplotlib.pyplot as plt # showing and rendering figures\n",
    "%matplotlib inline \n",
    "def resizeAndPad(img, size, padColor=0):\n",
    "\n",
    "    h, w = img.shape[:2]\n",
    "    sh, sw = size\n",
    "\n",
    "    # interpolation method\n",
    "    if h > sh or w > sw: # shrinking image\n",
    "        interp = cv2.INTER_AREA\n",
    "    else: # stretching image\n",
    "        interp = cv2.INTER_CUBIC\n",
    "\n",
    "    # aspect ratio of image\n",
    "    aspect = w/h  # if on Python 2, you might need to cast as a float: float(w)/h\n",
    "\n",
    "    # compute scaling and pad sizing\n",
    "    if aspect > 1: # horizontal image\n",
    "        new_w = sw\n",
    "        new_h = np.round(new_w/aspect).astype(int)\n",
    "        pad_vert = (sh-new_h)/2\n",
    "        pad_top, pad_bot = np.floor(pad_vert).astype(int), np.ceil(pad_vert).astype(int)\n",
    "        pad_left, pad_right = 0, 0\n",
    "    elif aspect < 1: # vertical image\n",
    "        new_h = sh\n",
    "        new_w = np.round(new_h*aspect).astype(int)\n",
    "        pad_horz = (sw-new_w)/2\n",
    "        pad_left, pad_right = np.floor(pad_horz).astype(int), np.ceil(pad_horz).astype(int)\n",
    "        pad_top, pad_bot = 0, 0\n",
    "    else: # square image\n",
    "        new_h, new_w = sh, sw\n",
    "        pad_left, pad_right, pad_top, pad_bot = 0, 0, 0, 0\n",
    "\n",
    "    # set pad color\n",
    "    if len(img.shape) is 3 and not isinstance(padColor, (list, tuple, np.ndarray)): # color image but only one color provided\n",
    "        padColor = [padColor]*3\n",
    "\n",
    "    # scale and pad\n",
    "    scaled_img = cv2.resize(img, (new_w, new_h), interpolation=interp)\n",
    "    scaled_img = cv2.copyMakeBorder(scaled_img, pad_top, pad_bot, pad_left, pad_right, borderType=cv2.BORDER_CONSTANT, value=padColor)\n",
    "\n",
    "    return scaled_img\n"
   ]
  },
  {
   "cell_type": "code",
   "execution_count": 3,
   "metadata": {},
   "outputs": [],
   "source": [
    "\n",
    "def apply_folder(dest, source, size, mode):\n",
    "    listImage = os.listdir(dest);\n",
    "    for i in listImage:       \n",
    "        img = cv2.imread(dest+i,mode)\n",
    "        scaled_sq_img = resizeAndPad(img, (size,size), 0)\n",
    "        # newimg = resize_image(img, min_dim=384, max_dim=384)\n",
    "        # newimg = cv2.cvtColor(newimg, cv2.COLOR_BGR2GRAY)\n",
    "        im = Image.fromarray(scaled_sq_img)\n",
    "        im.save(source+i)\n"
   ]
  },
  {
   "cell_type": "code",
   "execution_count": 5,
   "metadata": {},
   "outputs": [],
   "source": [
    "tend = datetime.now()\n",
    "print('current time: %s' % str(tend))\n",
    "\n",
    "dest = './rsna-bone-age/boneage-test-dataset/boneage-test-dataset/'\n",
    "source = './rsna-bone-age/boneage-test-dataset/boneage-test-dataset-square/'\n",
    "apply_folder(dest, source, 500, cv2.IMREAD_COLOR)\n",
    "\n",
    "print('elapsed time: %s' % str((tend - tstart)))"
   ]
  },
  {
   "cell_type": "code",
   "execution_count": null,
   "metadata": {},
   "outputs": [],
   "source": [
    "tend = datetime.now()\n",
    "print('current time: %s' % str(tend))\n",
    "\n",
    "\n",
    "dest = './rsna-bone-age/boneage-training-dataset/boneage-training-dataset/'\n",
    "source = './rsna-bone-age/boneage-training-dataset/boneage-training-dataset-square/'\n",
    "apply_folder(dest, source, 500, cv2.IMREAD_COLOR)\n",
    "\n",
    "print('elapsed time: %s' % str((tend - tstart)))"
   ]
  },
  {
   "cell_type": "code",
   "execution_count": null,
   "metadata": {},
   "outputs": [],
   "source": []
  }
 ],
 "metadata": {
  "kernelspec": {
   "display_name": "Python 3",
   "language": "python",
   "name": "python3"
  },
  "language_info": {
   "codemirror_mode": {
    "name": "ipython",
    "version": 3
   },
   "file_extension": ".py",
   "mimetype": "text/x-python",
   "name": "python",
   "nbconvert_exporter": "python",
   "pygments_lexer": "ipython3",
   "version": "3.6.8"
  }
 },
 "nbformat": 4,
 "nbformat_minor": 2
}
