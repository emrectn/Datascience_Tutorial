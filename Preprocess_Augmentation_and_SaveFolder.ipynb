{
 "cells": [
  {
   "cell_type": "code",
   "execution_count": 2,
   "metadata": {},
   "outputs": [],
   "source": [
    "from keras.preprocessing.image import ImageDataGenerator, img_to_array, load_img, array_to_img, save_img\n",
    "import os"
   ]
  },
  {
   "cell_type": "code",
   "execution_count": 3,
   "metadata": {},
   "outputs": [],
   "source": [
    "def create_dir(dirName):\n",
    "    if not os.path.exists(dirName):\n",
    "        os.mkdir(dirName)\n",
    "        print(\"Directory \" , dirName ,  \" Created \")\n",
    "    #else:    \n",
    "        #print(\"Directory \" , dirName ,  \" already exists\")\n"
   ]
  },
  {
   "cell_type": "code",
   "execution_count": null,
   "metadata": {},
   "outputs": [
    {
     "name": "stdout",
     "output_type": "stream",
     "text": [
      "ignore/rsna-bone-age/boneage-training-dataset\n",
      "ignore/rsna-bone-age/aug\n"
     ]
    }
   ],
   "source": [
    "\"\"\"### Kullanılacak veri artırma yönteminin seçilmesi ve hiper parametrelerinin belirlenmesi işlemleri\"\"\"\n",
    "# kullanılacak veri artırma tekniklerini tanımla\n",
    "datagen = ImageDataGenerator(rotation_range=30,\n",
    "                             width_shift_range=0.2,\n",
    "                             height_shift_range=0.2,\n",
    "                             shear_range=0.2,\n",
    "                             zoom_range=0.2,\n",
    "                             horizontal_flip=True,\n",
    "                             vertical_flip=True,\n",
    "                             fill_mode='nearest')\n",
    "\n",
    "def image_augmentation(img_path, output_path, sample_size):\n",
    "    print(img_path)\n",
    "    print(output_path)\n",
    "\n",
    "    if os.path.isdir(img_path):\n",
    "        create_dir(output_path)\n",
    "        for folder in os.listdir(img_path):\n",
    "            # image_augmentation(os.path.join(img_path, folder), img_path, sample_size) # To save train folder\n",
    "            image_augmentation(os.path.join(img_path, folder), os.path.join(output_path, folder), sample_size)\n",
    "    else: \n",
    "        img = load_img(img_path, target_size=(image_size, image_size))\n",
    "        x = img_to_array(img)\n",
    "        x = x.reshape((1,) + x.shape)\n",
    "        i = 0\n",
    "        output_path = \"/\".join(output_path.split(\"/\")[:-1]) # To save train folder remove the line\n",
    "        for batch in datagen.flow(x, batch_size=1, save_to_dir=output_path, save_format='jpg'):\n",
    "            i += 1\n",
    "            if i > sample_size:\n",
    "                break\n",
    "\n",
    "\n",
    "train_dir =  \"ignore/rsna-bone-age/boneage-training-dataset\"\n",
    "aug_dir = \"ignore/rsna-bone-age/aug\"\n",
    "augmentation_sample_size = 1\n",
    "image_size = 71\n",
    "\n",
    "image_augmentation(train_dir, aug_dir, augmentation_sample_size)\n",
    "# image_augmentation(validation_dir, aug_dir, augmentation_sample_size // 2)\n"
   ]
  },
  {
   "cell_type": "code",
   "execution_count": null,
   "metadata": {},
   "outputs": [],
   "source": []
  }
 ],
 "metadata": {
  "kernelspec": {
   "display_name": "Python 3",
   "language": "python",
   "name": "python3"
  },
  "language_info": {
   "codemirror_mode": {
    "name": "ipython",
    "version": 3
   },
   "file_extension": ".py",
   "mimetype": "text/x-python",
   "name": "python",
   "nbconvert_exporter": "python",
   "pygments_lexer": "ipython3",
   "version": "3.5.2"
  }
 },
 "nbformat": 4,
 "nbformat_minor": 2
}
